{
 "cells": [
  {
   "cell_type": "code",
   "execution_count": 39,
   "metadata": {},
   "outputs": [
    {
     "name": "stdout",
     "output_type": "stream",
     "text": [
      "40320\n"
     ]
    }
   ],
   "source": [
    "\n",
    "# FATORIAL\n",
    "# internal function => num * factorial(num-1)\n",
    "def factorial(num):\n",
    "    if num <= 1:\n",
    "        return 1;\n",
    "    else:\n",
    "        return num * factorial(num - 1);\n",
    "\n",
    "out = factorial(8)\n",
    "print(out);\n",
    "    "
   ]
  },
  {
   "cell_type": "code",
   "execution_count": 4,
   "metadata": {},
   "outputs": [
    {
     "name": "stdout",
     "output_type": "stream",
     "text": [
      "55\n"
     ]
    }
   ],
   "source": [
    "\n",
    "# FIBONACCI\n",
    "# 1,1,2,3,5,8,13,21,34,55...\n",
    "# internal function => fibonacci(indice - 2) + fibonacci(indice -1); \n",
    "def fibonacci(indice):\n",
    "    if indice <= 1:\n",
    "        return 1;\n",
    "    else:\n",
    "        return fibonacci(indice - 2) + fibonacci(indice - 1);\n",
    "        \n",
    "out = fibonacci(9);\n",
    "print(out);\n"
   ]
  },
  {
   "cell_type": "code",
   "execution_count": 108,
   "metadata": {},
   "outputs": [
    {
     "name": "stdout",
     "output_type": "stream",
     "text": [
      "15\n"
     ]
    }
   ],
   "source": [
    "\n",
    "# Defina a função soma_nat que recebe como argumento um número natural n e devolve a soma de todos os números naturais até n\n",
    "\n",
    "# internal function => n + soma_nat(n - 1)\n",
    "def soma_nat(n):\n",
    "    if n == 0:\n",
    "        return 0;\n",
    "    else:\n",
    "        return n + soma_nat(n - 1);\n",
    "\n",
    "out = soma_nat(5)\n",
    "print(out)\n"
   ]
  },
  {
   "cell_type": "code",
   "execution_count": 6,
   "metadata": {},
   "outputs": [
    {
     "name": "stdout",
     "output_type": "stream",
     "text": [
      "7\n",
      "7\n"
     ]
    }
   ],
   "source": [
    "\n",
    "# Defina a função div que recebe como argumentos dois números naturais m e n e devolve o resultado da divisão inteira de m por n. Neste exercício não\n",
    "# pode recorrer às operações aritméticas de multiplicação, divisão e resto da divisão inteira.\n",
    "\n",
    "# NAO RECURSIVA\n",
    "def div_nr(m, n):\n",
    "    count = 0\n",
    "    s = 0;\n",
    "    while m >= s:\n",
    "        s = s + n\n",
    "        if s < m:\n",
    "            count = count + 1\n",
    "    return count\n",
    "\n",
    "\n",
    "# n+n+n+n <= m\n",
    "# internal function => div(m, n + n)\n",
    "# div(9,1) = 9, div(9,2) = 4, div(9,3) = 3, div(9,4) = 2, div(9,5) = 1\n",
    "def div(m, n):\n",
    "    if (m < n):\n",
    "        if m != 0:\n",
    "            return m - 1\n",
    "        return m\n",
    "    else:\n",
    "        # print('div(',m,' - ',n,',', n,')',' => div(',m - n,',', n,')')\n",
    "        return 1 + div(m - n, n)\n",
    "        \n",
    "out = div(20,3)\n",
    "print(out)\n",
    "\n",
    "out = div(21,3)\n",
    "print(out)\n"
   ]
  },
  {
   "cell_type": "code",
   "execution_count": 25,
   "metadata": {},
   "outputs": [
    {
     "name": "stdout",
     "output_type": "stream",
     "text": [
      "5\n"
     ]
    }
   ],
   "source": [
    "\n",
    "# Defina a função prim_alg que recebe como argumento um número natural e devolve o primeiro \n",
    "# algarismo (o mais significativo) na representação decimal de n.\n",
    "# EX. prim_alg(5629) = 5\n",
    "\n",
    "def prim_alg(n):\n",
    "    if (n < 10):\n",
    "        return n\n",
    "    else:\n",
    "        return prim_alg(n // 10)\n",
    "    \n",
    "out = prim_alg(5620)\n",
    "print(out)\n"
   ]
  },
  {
   "cell_type": "code",
   "execution_count": 8,
   "metadata": {},
   "outputs": [
    {
     "name": "stdout",
     "output_type": "stream",
     "text": [
      "4.5\n",
      "5.0\n",
      "5.5\n"
     ]
    }
   ],
   "source": [
    "\n",
    "# Defina a função media_digitos que recebe como argumento um número natural e devolve a média dos seus digitos.\n",
    "# Ex.: media_digitos(1234) = 2.5\n",
    "\n",
    "# f(n) = n\n",
    "# f((n)(n-1)) = ((n)+(n-1))/2\n",
    "\n",
    "def somatorio_plus(n):\n",
    "    if n < 10:\n",
    "        return n\n",
    "    else:\n",
    "        return 1 + (somatorio_plus(n // 10) + somatorio_plus(n % 10))\n",
    "    \n",
    "def somatorio(n):\n",
    "    if n < 10:\n",
    "        return n\n",
    "    else:\n",
    "        return somatorio(n // 10) + somatorio(n % 10)\n",
    "                \n",
    "                \n",
    "def media_digitos(n):\n",
    "    numerador = somatorio(n)\n",
    "    denominador = somatorio_plus(n) + 1 - numerador\n",
    "    return numerador / denominador\n",
    "    \n",
    "\n",
    "out = media_digitos(3456)     # S = 18; M = 4,5\n",
    "print(out)\n",
    "\n",
    "out = media_digitos(34567)    # S = 25; M = 5\n",
    "print(out)\n",
    "\n",
    "out = media_digitos(345678)     # S = 33; M = 5,5\n",
    "print(out)\n"
   ]
  }
 ],
 "metadata": {
  "kernelspec": {
   "display_name": "base",
   "language": "python",
   "name": "python3"
  },
  "language_info": {
   "codemirror_mode": {
    "name": "ipython",
    "version": 3
   },
   "file_extension": ".py",
   "mimetype": "text/x-python",
   "name": "python",
   "nbconvert_exporter": "python",
   "pygments_lexer": "ipython3",
   "version": "3.9.13 (main, Aug 25 2022, 18:24:45) \n[Clang 12.0.0 ]"
  },
  "orig_nbformat": 4,
  "vscode": {
   "interpreter": {
    "hash": "a0a8128a7faaddfd2b4fa50de09d1f59a345ed60b5f1223e3ebadf00a13127e4"
   }
  }
 },
 "nbformat": 4,
 "nbformat_minor": 2
}
